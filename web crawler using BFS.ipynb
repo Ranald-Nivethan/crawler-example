{
 "cells": [
  {
   "cell_type": "code",
   "execution_count": 2,
   "metadata": {},
   "outputs": [],
   "source": [
    "import requests\n",
    "import re"
   ]
  },
  {
   "cell_type": "code",
   "execution_count": null,
   "metadata": {},
   "outputs": [
    {
     "name": "stdout",
     "output_type": "stream",
     "text": [
      "https://www.singaporeair.com/en_UK/au/home#/book/bookflight\n"
     ]
    }
   ],
   "source": [
    "class WebCrawler:\n",
    "    def __init__(self):\n",
    "        self.discovered_websites =  []\n",
    "        \n",
    "    def crawl(self, start_url):\n",
    "        queue = [start_url]\n",
    "        self.discovered_websites.append(start_url)\n",
    "        \n",
    "        while queue:\n",
    "            actual_url = queue.pop(0)\n",
    "            print(actual_url)\n",
    "            \n",
    "            actual_url_html = self.read_raw_html(actual_url)\n",
    "            \n",
    "            for url in self.get_links_from_html(actual_url_html):\n",
    "                if url not in self.discovered_websites:\n",
    "                    self.discovered_websites.append(url)\n",
    "                    queue.append(url)\n",
    "            \n",
    "    def get_links_from_html(self, raw_html):\n",
    "        return re.findall(\"https?://(?:[-\\w.]|(?:%[\\da-fA-F]{2}))+\", raw_html)\n",
    "    \n",
    "    def read_raw_html(self, url):\n",
    "        raw_html = ''\n",
    "        \n",
    "        try:\n",
    "            raw_html = requests.get(url).text\n",
    "        except Exception as e:\n",
    "            pass\n",
    "        \n",
    "        return raw_html\n",
    "    \n",
    "if __name__ == '__main__':\n",
    "        \n",
    "    crawler = WebCrawler()\n",
    "    crawler.crawl('https://www.singaporeair.com/en_UK/au/home#/book/bookflight')"
   ]
  },
  {
   "cell_type": "code",
   "execution_count": null,
   "metadata": {},
   "outputs": [],
   "source": []
  }
 ],
 "metadata": {
  "kernelspec": {
   "display_name": "Python 3",
   "language": "python",
   "name": "python3"
  },
  "language_info": {
   "codemirror_mode": {
    "name": "ipython",
    "version": 3
   },
   "file_extension": ".py",
   "mimetype": "text/x-python",
   "name": "python",
   "nbconvert_exporter": "python",
   "pygments_lexer": "ipython3",
   "version": "3.7.6"
  }
 },
 "nbformat": 4,
 "nbformat_minor": 4
}
